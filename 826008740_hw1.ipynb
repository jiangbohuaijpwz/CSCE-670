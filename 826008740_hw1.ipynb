{
 "cells": [
  {
   "cell_type": "markdown",
   "metadata": {},
   "source": [
    "#### CSCE 670 :: Information Storage and Retrieval :: Texas A&M University :: Spring 2019\n",
    "\n",
    "\n",
    "# Homework 1:  Modeling Text + Link Analysis + SEO\n",
    "\n",
    "### 100 points [6% of your final grade]\n",
    "\n",
    "### Due: Monday, February 8, 2019 by 11:59pm\n",
    "\n",
    "*Goals of this homework:* Understand the vector space model (TF-IDF, cosine) + BM25 works in searching. Explore real-world challenges of building a graph (in this case, from Epinions), implement and test the classic HITS algorithm over this graph. Experiment with real-world search engine optimization techniques.\n",
    "\n",
    "*Submission instructions (eCampus):* To submit your homework, rename this notebook as `UIN_hw1.ipynb`. For example, my homework submission would be something like `555001234_hw1.ipynb`. Submit this notebook via eCampus (look for the homework 1 assignment there). Your notebook should be completely self-contained, with the results visible in the notebook. We should not have to run any code from the command line, nor should we have to run your code within the notebook (though we reserve the right to do so). So please run all the cells for us, and then submit.\n",
    "\n",
    "*Late submission policy:* For this homework, you may use as many late days as you like (up to the 5 total allotted to you).\n",
    "\n",
    "*Collaboration policy:* You are expected to complete each homework independently. Your solution should be written by you without the direct aid or help of anyone else. However, we believe that collaboration and team work are important for facilitating learning, so we encourage you to discuss problems and general problem approaches (but not actual solutions) with your classmates. You may post on Piazza, search StackOverflow, etc. But if you do get help in this way, you must inform us by **filling out the Collaboration Declarations at the bottom of this notebook**. \n",
    "\n",
    "*Example: I found helpful code on stackoverflow at https://stackoverflow.com/questions/11764539/writing-fizzbuzz that helped me solve Problem 2.*\n",
    "\n",
    "The basic rule is that no student should explicitly share a solution with another student (and thereby circumvent the basic learning process), but it is okay to share general approaches, directions, and so on. If you feel like you have an issue that needs clarification, feel free to contact either me or the TA."
   ]
  },
  {
   "cell_type": "markdown",
   "metadata": {},
   "source": [
    "# Part 1: Modeling Text (50 points)"
   ]
  },
  {
   "cell_type": "markdown",
   "metadata": {},
   "source": [
    "### TF-IDF\n",
    "\n",
    "\n",
    "First, you will need to download the review.json file from the Resources tab on Piazza, a collection of about 7,000 Yelp reviews we sampled from the [Yelp Dataset Challenge](https://www.yelp.com/dataset_challenge). You'll see that each line corresponds to a review on a particular business. Each review has a unique \"ID\" and the text content is in the \"review\" field. You need to load the json file first. We already have done some basic preprocessing on the reviews, so you can just tokenize each review using whitespace."
   ]
  },
  {
   "cell_type": "markdown",
   "metadata": {},
   "source": [
    "Here you can treat each review as a document. Given a query, you need to calculate its TF-IDF score in each review.  For this homework, we will define the TF-IDF as follows:"
   ]
  },
  {
   "cell_type": "markdown",
   "metadata": {},
   "source": [
    "`TF = number of times word occurs in a document`\n",
    "\n",
    "`IDF = log(total number of documents / number of documents containing the word)`"
   ]
  },
  {
   "cell_type": "markdown",
   "metadata": {},
   "source": [
    "### A) Ranking with simple sums of TF-IDF scores\n",
    "\n",
    "To start out with, for a multi-word query, we will rank documents by a simple sum of the TF-IDF scores for the query terms in the document. \n",
    "\n",
    "Please calculate this TF-IDF sum score for queries `\"best bbq\"` and `\"kid fun and food\"`. You need to report the Top-10 reviews with highest TF-IDF scores for each query. Your output should look like this:"
   ]
  },
  {
   "cell_type": "markdown",
   "metadata": {},
   "source": [
    "Query \"best bbq\"\n",
    "\n",
    "Rank Review_ID score\n",
    "\n",
    "1 dhskfhjskfhs 0.55555\n",
    "\n",
    "...\n",
    "\n",
    "\n",
    "\n",
    "Query \"kid fun and food\"\n",
    "\n",
    "Rank Review_ID score\n",
    "\n",
    "1 dhskfhjskfhs 0.55555\n",
    "\n",
    "..."
   ]
  },
  {
   "cell_type": "code",
   "execution_count": 3,
   "metadata": {},
   "outputs": [
    {
     "name": "stdout",
     "output_type": "stream",
     "text": [
      "6.871535771986557\n"
     ]
    }
   ],
   "source": [
    "import math\n",
    "import json\n",
    "\n",
    "reviewList = []\n",
    "with open('/Users/jiangbohuai/Desktop/CSCE670/review.json', 'r') as f:\n",
    "    for line in f:\n",
    "        reviewList.append(json.loads(line))\n",
    "\n",
    "# print(reviewList[0]['review'])\n",
    "lengthOfReviewList = len(reviewList)\n",
    "wordSet = set()\n",
    "\n",
    "for review in reviewList :\n",
    "    for word in review['review'].split() :\n",
    "        wordSet.add(word)\n",
    "        \n",
    "IDF_Scores = {}\n",
    "\n",
    "for word in wordSet : \n",
    "    IDF_Scores[word] = 0\n",
    "    \n",
    "# find the IDF of every word in the reviewList\n",
    "def computeIDF() :\n",
    "    for review in reviewList :\n",
    "        reviewListByWord = review['review'].split()\n",
    "        reviewSetByWord = set(reviewListByWord)\n",
    "        for word in reviewSetByWord :\n",
    "            IDF_Scores[word] = IDF_Scores[word] + 1\n",
    "    for word in wordSet :\n",
    "        IDF_Scores[word] = math.log(6751 / IDF_Scores[word])\n",
    "    return IDF_Scores\n",
    "idfResult = computeIDF()\n",
    "print(idfResult['shells'])\n",
    "# print(computeIDF())\n",
    "# # result of best bbq in computeIDF[1.9599318584964802, 4.386629122198557]   "
   ]
  },
  {
   "cell_type": "code",
   "execution_count": 4,
   "metadata": {},
   "outputs": [],
   "source": [
    "# return the tf of every review in the reviewList\n",
    "def computeTF() :\n",
    "    TF_Scores = []  \n",
    "    i = 0\n",
    "    for review in reviewList :\n",
    "        reviewListByWord = review['review'].split()\n",
    "        reviewSetByword = set(reviewListByWord)\n",
    "        reviewListWithoutDuplication = list(reviewSetByword)\n",
    "        for word in reviewListWithoutDuplication :\n",
    "            num = reviewListByWord.count(word)\n",
    "            if i >= len(TF_Scores) :\n",
    "                TF_Scores.append({word : num})\n",
    "            else :\n",
    "                TF_Scores[i][word] = num\n",
    "        TF_Scores[i]['id'] = review['id']\n",
    "        i += 1\n",
    "    return TF_Scores\n",
    "tfResult = computeTF()\n",
    "# print(computeTF())\n",
    "\n",
    "\n",
    "\n",
    "# for tfDict in tfResult :\n",
    "#     if 'best' in tfDict :\n",
    "#         print(tfDict['id'], tfDict['best'])\n",
    "\n",
    "def computeFT_IDF(query) :\n",
    "    res = []\n",
    "    for tfDict in tfResult :\n",
    "        num = 0\n",
    "        for word in query.split() :\n",
    "            if word in tfDict :\n",
    "                num += tfDict[word] * idfResult[word]\n",
    "        res.append([num, tfDict['id']])    \n",
    "    res.sort(key=lambda x: x[0])\n",
    "    res.reverse()\n",
    "    return res[:10]\n",
    "# print(computeFT_IDF('best bbq'))\n",
    "# # print(computeFT_IDF('kid fun and food'))"
   ]
  },
  {
   "cell_type": "code",
   "execution_count": 5,
   "metadata": {},
   "outputs": [
    {
     "name": "stdout",
     "output_type": "stream",
     "text": [
      "rank    Review_ID                    score\n",
      "1       YbQvHNrjZJ38mnh5rLuq7w       26.319774733191345\n",
      "2       P31kXP4oan6ZQm69TN6tIA       21.933145610992785\n",
      "3       x5esEK6J9XkA_vbvVbG8Gg       19.506448347290707\n",
      "4       NCfX4AxDvQ3QRyXKtmhVwQ       17.54651648879423\n",
      "5       mWs26TrBM7ogwCM9UfVJFg       17.54651648879423\n",
      "6       4WTG1-9mw8YHEyaTu8dQww       15.119819225092153\n",
      "7       e5INq6DAZn2zMHicKQl07Q       15.119819225092153\n",
      "8       x3n_l3GhBx78y6jWX4fStg       13.719523009475362\n",
      "9       8p-KEtrrTmLv-o1mKpUy1A       13.159887366595672\n",
      "10       1tJ_iJX_KZ3zM_9_GRaGTg       13.159887366595672\n"
     ]
    }
   ],
   "source": [
    "# Show us the result for \"best bbq\"\n",
    "print('rank    ' + 'Review_ID                    ' + 'score')\n",
    "# print(computeFT_IDF('best bbq'))\n",
    "res = computeFT_IDF('best bbq')\n",
    "i = 1\n",
    "for review in res :\n",
    "    print(i,'     ', review[1], '     ', review[0])\n",
    "    i = i + 1"
   ]
  },
  {
   "cell_type": "code",
   "execution_count": 6,
   "metadata": {},
   "outputs": [
    {
     "name": "stdout",
     "output_type": "stream",
     "text": [
      "rank    Review_ID                    score\n",
      "1       7o_hciiXEMNQkXfVl0F0XQ       22.201231889774093\n",
      "2       JKLUXUovJCU6kbcdin74NQ       20.014087913721344\n",
      "3       IA8TOfGKI-Il-70BsB6HgA       18.725471979355085\n",
      "4       Kytq1NbFIDDCXUculSqT8g       16.78875808815464\n",
      "5       MF6rPRx9jz-g8S5P_ZIdyg       16.302406482703674\n",
      "6       bjoedmJ4_DZP5JnfXVaC-w       15.716259660853684\n",
      "7       I00B-QG5uTKvwCK7x9ejeA       15.662550111334058\n",
      "8       BVGRJgDJGEhSfgIPCan7vQ       15.477061200988935\n",
      "9       wMB3cI3-xhxM_BpmppY9RQ       14.794561503546632\n",
      "10       vTGDEQGp6EPlwdMJUnTb7A       13.910994327397505\n"
     ]
    }
   ],
   "source": [
    "# Show us the result for \"kid fun and food\"\n",
    "print('rank    ' + 'Review_ID                    ' + 'score')\n",
    "res = computeFT_IDF('kid fun and food')\n",
    "i = 1\n",
    "for review in res :\n",
    "    print(i,'     ', review[1], '     ', review[0])\n",
    "    i = i + 1"
   ]
  },
  {
   "cell_type": "markdown",
   "metadata": {},
   "source": [
    "### B) Ranking with TF-IDF + Cosine\n",
    "\n",
    "Instead of using the sum of TF-IDF scores, let's try the classic cosine approach for ranking. You should still use the TF-IDF scores to weigh each term, but now use the cosine between the query vector and the document vector to assign a similarity score. You can try the same two queries as before and report the results. (Top-10 reviews which are similar to the query)"
   ]
  },
  {
   "cell_type": "code",
   "execution_count": 7,
   "metadata": {},
   "outputs": [
    {
     "name": "stdout",
     "output_type": "stream",
     "text": [
      "[[0.5345284475881048, '6wRJtHhvQsS6vOse466_3w'], [0.4360447415638786, 'x5esEK6J9XkA_vbvVbG8Gg'], [0.42255218023429036, 'eAXFFP3GxUfGjQlAZDB_CQ'], [0.40004536886838066, '7LaBODDEaUNRpLPDG_bKtQ'], [0.3577182765572638, 'P31kXP4oan6ZQm69TN6tIA'], [0.3545945072162078, 'ZAn6zB6VOCsJ1OsGRv-NVA'], [0.3399739836785112, '8p-KEtrrTmLv-o1mKpUy1A'], [0.31605256633839557, 'RHWT1KVeIw2FT7i5BP_TVw'], [0.308230511122904, '_fNfowXaxXcYChKukMrYeg'], [0.2990933593101938, 'AEiNkWY-4ggToDeMTd8l1w']]\n"
     ]
    }
   ],
   "source": [
    "import math\n",
    "import json\n",
    "def TfIdfVector() :\n",
    "    res = []\n",
    "    for tfDict in tfResult :\n",
    "        tempDict = {}\n",
    "        for word in tfDict :\n",
    "#             if to get rid of 'id'\n",
    "            if word != 'id' :\n",
    "                num = idfResult[word] * tfDict[word]\n",
    "                tempDict[word] = num\n",
    "        tempDict['id'] = tfDict['id']\n",
    "        res.append(tempDict)\n",
    "    return res\n",
    "TfIdfVector = TfIdfVector()\n",
    "# print(TfIdfVector)\n",
    "\n",
    "\n",
    "def squareRoot(targetDict) :\n",
    "    res = 0\n",
    "    for word in targetDict :\n",
    "        if word != 'id' :\n",
    "            res += targetDict[word] ** 2\n",
    "    res = math.sqrt(res)\n",
    "    return res\n",
    "\n",
    "def vectorMultiplication(query) :\n",
    "    res = []\n",
    "    for TfIdfDict in TfIdfVector :\n",
    "        a = 0\n",
    "        b = squareRoot(TfIdfDict)\n",
    "        c = len(query.split())\n",
    "        for word in query.split() :\n",
    "            if word in TfIdfDict :\n",
    "                a = a + TfIdfDict[word] \n",
    "        c = math.sqrt(c)\n",
    "#         if b == 0 :\n",
    "#             res.append([0, vector[-1]])\n",
    "#         if b != 0 :\n",
    "        res.append([(a / b / c), TfIdfDict['id']])\n",
    "    res.sort(key = lambda x: x[0])\n",
    "    res.reverse()\n",
    "    return res[:10]\n",
    "print(vectorMultiplication('best bbq'))"
   ]
  },
  {
   "cell_type": "code",
   "execution_count": 8,
   "metadata": {},
   "outputs": [
    {
     "name": "stdout",
     "output_type": "stream",
     "text": [
      "rank    Review_ID                    score\n",
      "1       6wRJtHhvQsS6vOse466_3w       0.5345284475881048\n",
      "2       x5esEK6J9XkA_vbvVbG8Gg       0.4360447415638786\n",
      "3       eAXFFP3GxUfGjQlAZDB_CQ       0.42255218023429036\n",
      "4       7LaBODDEaUNRpLPDG_bKtQ       0.40004536886838066\n",
      "5       P31kXP4oan6ZQm69TN6tIA       0.3577182765572638\n",
      "6       ZAn6zB6VOCsJ1OsGRv-NVA       0.3545945072162078\n",
      "7       8p-KEtrrTmLv-o1mKpUy1A       0.3399739836785112\n",
      "8       RHWT1KVeIw2FT7i5BP_TVw       0.31605256633839557\n",
      "9       _fNfowXaxXcYChKukMrYeg       0.308230511122904\n",
      "10       AEiNkWY-4ggToDeMTd8l1w       0.2990933593101938\n"
     ]
    }
   ],
   "source": [
    "# Show us the result for \"best bbq\"\n",
    "print('rank    ' + 'Review_ID                    ' + 'score')\n",
    "res = vectorMultiplication('best bbq')\n",
    "i = 1\n",
    "for review in res :\n",
    "    print(i,'     ', review[1], '     ', review[0])\n",
    "    i = i + 1\n",
    "    "
   ]
  },
  {
   "cell_type": "code",
   "execution_count": 9,
   "metadata": {},
   "outputs": [
    {
     "name": "stdout",
     "output_type": "stream",
     "text": [
      "rank    Review_ID                    score\n",
      "1       IUME6cWFSwH1mSh_1_U81g       0.38678092826505023\n",
      "2       ag1fnnEmc2yernTW2ur2eg       0.3184083256114468\n",
      "3       OExraycGW4VxL0Xth1xZ4w       0.28233280921832343\n",
      "4       37RfMeDMo8QEVAF8yT31Ww       0.20412875547557477\n",
      "5       x72i0s6q84ouimza6Y3HSQ       0.19734521151849208\n",
      "6       6xdziQ46TZWKBpKQPNCSGw       0.18596593471006725\n",
      "7       Pp0h1AxxHpTU-ylBt2mldQ       0.17287031170859368\n",
      "8       1HshwJX7afs-CKdczFbI5g       0.172033574387773\n",
      "9       a2xfP0RpJAhioxUUHCX6QQ       0.17094432570094087\n",
      "10       _AXfMxnvGx6a4L_ZgPCMKA       0.1677263887030493\n"
     ]
    }
   ],
   "source": [
    "# Show us the result for \"kid fun and food\"\n",
    "print('rank    ' + 'Review_ID                    ' + 'score')\n",
    "res = vectorMultiplication('kid fun and food')\n",
    "i = 1\n",
    "for review in res :\n",
    "    print(i,'     ', review[1], '     ', review[0])\n",
    "    i = i + 1\n"
   ]
  },
  {
   "cell_type": "markdown",
   "metadata": {},
   "source": [
    "### C) Ranking with BM25\n",
    "\n",
    "Finally, let's try the BM25 approach for ranking. Refer to [https://en.wikipedia.org/wiki/Okapi_BM25](https://en.wikipedia.org/wiki/Okapi_BM25) for the specific formula. You should choose k_1 = 1.2 and b = 0.75. You need to report the Top-10 reviews with highest BM25 scores for each query.\n"
   ]
  },
  {
   "cell_type": "code",
   "execution_count": 22,
   "metadata": {},
   "outputs": [
    {
     "name": "stdout",
     "output_type": "stream",
     "text": [
      "127.88268404680788\n"
     ]
    }
   ],
   "source": [
    "# Your code here\n",
    "# print(len(reviewList))\n",
    "def avgdl() :\n",
    "    length = 0\n",
    "    for review in reviewList :\n",
    "        length += len(review['review'].split())\n",
    "    return length / len(reviewList)\n",
    "avg = avgdl()\n",
    "# print(avg)"
   ]
  },
  {
   "cell_type": "code",
   "execution_count": 33,
   "metadata": {},
   "outputs": [
    {
     "name": "stdout",
     "output_type": "stream",
     "text": [
      "[[11.253601127552948, 'x5esEK6J9XkA_vbvVbG8Gg'], [10.79145311681653, '4WTG1-9mw8YHEyaTu8dQww'], [10.60017213929137, 'e5INq6DAZn2zMHicKQl07Q'], [10.25900208888154, 'xpm6TgDiHaQdEDlErFsqvQ'], [9.768354886994567, '-RApX_RMzJLnpommDpQfKQ'], [9.628351200700767, 'GASAd_gPBY_eWIL9XJwuNA'], [9.59371842711005, 'JB0ryh232GE1UqlFgEIOpg'], [9.060686222171345, '6E7RhJa4kx0ci0-nfv7Ivw'], [8.776483614414637, 'cUPlcoMQdyLxMQQbXYzNkw'], [8.656054774056912, 'P31kXP4oan6ZQm69TN6tIA']]\n"
     ]
    }
   ],
   "source": [
    "def BM25(query) :\n",
    "    resBM25 = []\n",
    "    i = 0\n",
    "    for review in reviewList :\n",
    "        score = 0\n",
    "        for word in query.split() :\n",
    "            if word in tfResult[i] :\n",
    "                num = tfResult[i][word]\n",
    "                temp = idfResult[word] * num * 2.2\n",
    "                temp = temp / (num + 1.2 * (0.25 + 0.25 * len(review['review'].split()) / avg))\n",
    "                score += temp\n",
    "        resBM25.append([score, review['id']])\n",
    "        i += 1\n",
    "    return resBM25\n",
    "def printBM25(query) :\n",
    "    res = BM25(query)\n",
    "    res.sort(key = lambda x: x[0])\n",
    "    res.reverse()\n",
    "    return res[:10]\n",
    "print(printBM25('best bbq'))"
   ]
  },
  {
   "cell_type": "code",
   "execution_count": 34,
   "metadata": {},
   "outputs": [
    {
     "name": "stdout",
     "output_type": "stream",
     "text": [
      "rank    Review_ID                    score\n",
      "1       x5esEK6J9XkA_vbvVbG8Gg       11.253601127552948\n",
      "2       4WTG1-9mw8YHEyaTu8dQww       10.79145311681653\n",
      "3       e5INq6DAZn2zMHicKQl07Q       10.60017213929137\n",
      "4       xpm6TgDiHaQdEDlErFsqvQ       10.25900208888154\n",
      "5       -RApX_RMzJLnpommDpQfKQ       9.768354886994567\n",
      "6       GASAd_gPBY_eWIL9XJwuNA       9.628351200700767\n",
      "7       JB0ryh232GE1UqlFgEIOpg       9.59371842711005\n",
      "8       6E7RhJa4kx0ci0-nfv7Ivw       9.060686222171345\n",
      "9       cUPlcoMQdyLxMQQbXYzNkw       8.776483614414637\n",
      "10       P31kXP4oan6ZQm69TN6tIA       8.656054774056912\n"
     ]
    }
   ],
   "source": [
    "# Show us the result for \"best bbq\"\n",
    "print('rank    ' + 'Review_ID                    ' + 'score')\n",
    "res = printBM25('best bbq')\n",
    "i = 1\n",
    "for review in res :\n",
    "    print(i,'     ', review[1], '     ', review[0])\n",
    "    i = i + 1\n"
   ]
  },
  {
   "cell_type": "code",
   "execution_count": 35,
   "metadata": {},
   "outputs": [
    {
     "name": "stdout",
     "output_type": "stream",
     "text": [
      "rank    Review_ID                    score\n",
      "1       TVq6HhhJizKM1mReF9hvJQ       10.747579997870728\n",
      "2       kDwMMrSiB_AlV0erhVigFg       10.545688836713447\n",
      "3       GKgnNAElM0ybDix0M5xq5w       10.377172640503517\n",
      "4       vTGDEQGp6EPlwdMJUnTb7A       10.082608145873639\n",
      "5       UMqvuRtTxJFuWbgT6qO9cg       9.947665595795232\n",
      "6       O2n7CfnlIRQhKS49dIi-CA       9.887542733516144\n",
      "7       BLQYsPFFAezpbbF-1dzD4Q       9.817504171484686\n",
      "8       VuF0YIl7k8qNbDjlg8iAyg       9.661225535543103\n",
      "9       _HyK3isyGiChhLPaCWn0nQ       9.644089163772726\n",
      "10       7ptI3mbzmfmDSOcOu0GGrw       9.598327746855187\n"
     ]
    }
   ],
   "source": [
    "# Show us the result for \"kid fun and food\"\n",
    "print('rank    ' + 'Review_ID                    ' + 'score')\n",
    "res = printBM25('kid fun and food')\n",
    "i = 1\n",
    "for review in res :\n",
    "    print(i,'     ', review[1], '     ', review[0])\n",
    "    i = i + 1\n"
   ]
  },
  {
   "cell_type": "markdown",
   "metadata": {},
   "source": [
    "Briefly discuss the differences you see between the three methods. Is there one you prefer? "
   ]
  },
  {
   "cell_type": "code",
   "execution_count": null,
   "metadata": {
    "collapsed": true
   },
   "outputs": [],
   "source": [
    "# I prefer to use BM25;\n",
    "# Difference : The TF_IDF method is just first calculate the TF and IDF numbers of those words that query has, then multiply them; \n",
    "#     but The TF_IDF_COSINE method add one other features, which is taking consideration of the normalization. Through the \n",
    "#     normalization, the TF and IDF numbers of those words even the query does not can also influence the score.document with \n",
    "#     different length has different score;\n",
    "#     And the BM25 is even better because it considers some parameters like k1 and b; If we choose different k1 or b, the score can \n",
    "#     change."
   ]
  },
  {
   "cell_type": "markdown",
   "metadata": {},
   "source": [
    "*add your discussion here*"
   ]
  },
  {
   "cell_type": "markdown",
   "metadata": {},
   "source": [
    "# Part 2: Link Analysis (40 points)"
   ]
  },
  {
   "cell_type": "markdown",
   "metadata": {},
   "source": [
    "## A Trust Graph\n",
    "\n",
    "\n",
    "In this part, we're going to adapt the classic HITS approach to allow us to find not the most authoritative web pages, but rather to find the most trustworthy users. [Epinions.com](https://snap.stanford.edu/data/soc-Epinions1.html) is a general consumer review site with a who-trust-whom online social network. Members of the site can decide whether to ''trust'' each other. All the trust relationships interact and form the Web of Trust which is then combined with review ratings to determine which reviews are shown to the user. (Refer to: Richardson, Matthew, Rakesh Agrawal, and Pedro Domingos. \"Trust management for the semantic web.\" International semantic Web conference. Springer, Berlin, Heidelberg, 2003.)\n",
    "\n",
    "So, instead of viewing the world as web pages with hyperlinks (where pages = nodes, hyperlinks = edges), we're going to construct a graph of Epinions users and their \"trust\" on other users (so user = node, trust behavior = edge). Over this Epinions-user graph, we can apply the HITS approach to order the users by their hub-ness and their authority-ness.\n",
    "\n",
    "You need to download the *Epinions_trust.txt* file from the Resources tab on Piazza. Each line represents the trust relationship between two users. Here is a toy example. Suppose you are given the following four lines:\n",
    "\n",
    "* diane trust bob\n",
    "* charlie trust bob \n",
    "* charlie trust alice\n",
    "* bob trust charlie\n",
    "\n",
    "The \"trust\" between each user pair denotes a directed edge between two nodes. E.g., the \"diane\" node has a directed edge to the \"bob\" node (as indicated by the first line). \n",
    "\n",
    "You should build a graph by parsing the data in the file we provide called *Epinions_trust.txt*. (Note: The edges are binary and directed.)\n",
    "\n",
    "**Notes:**\n",
    "\n",
    "* The edges are binary and directed.\n",
    "* User can't trust himself/herself.\n",
    "* Later you will need to implement the HITS algorithm on the graph you build here."
   ]
  },
  {
   "cell_type": "code",
   "execution_count": 135,
   "metadata": {
    "collapsed": true
   },
   "outputs": [],
   "source": [
    "with open('/Users/jiangbohuai/Desktop/CSCE670/Epinions_trust.txt', 'r') as f:\n",
    "        outFile = f.read()\n",
    "trustList = outFile.split('\\n')\n",
    "# print(trustList)\n",
    "\n",
    "dic = dict()\n",
    "for edge in trustList :\n",
    "    word = edge.split()\n",
    "    if len(word) != 0 :\n",
    "        start = word[0]\n",
    "        end = word[2]\n",
    "        if start != end :\n",
    "            if start in dic :\n",
    "                if end not in dic[start] :\n",
    "                    dic[start].append(end)\n",
    "            else :\n",
    "                dic[start] = [end]\n",
    "# print(dic)\n",
    "\n",
    "# def testDuplicate(dic) :\n",
    "#     for key in dic :\n",
    "#         if (len(dic[key]) != len(set(dic[key]))) :\n",
    "#             return 'true'\n",
    "#     return 'false'\n",
    "# print(testDuplicate(dic))\n",
    "\n",
    "def sizeOfGraph(dic) :\n",
    "    edge = 0\n",
    "    nodeList = []\n",
    "    for key in dic :\n",
    "        edge += len((dic[key]))\n",
    "        nodeList.append(key)\n",
    "    for key in dic :\n",
    "        for value in dic[key] :\n",
    "            if value not in nodeList : \n",
    "                nodeList.append(value)\n",
    "    return len(nodeList), edge\n",
    "# print(sizeOfGraph(dic))\n",
    "# print(len(dic['thechuunt']))"
   ]
  },
  {
   "cell_type": "markdown",
   "metadata": {},
   "source": [
    "Please show us the size of the graph, i.e., the number of nodes and edges\n"
   ]
  },
  {
   "cell_type": "code",
   "execution_count": 136,
   "metadata": {},
   "outputs": [
    {
     "name": "stdout",
     "output_type": "stream",
     "text": [
      "the number of nodes and the number of edges are shown belown respectively\n",
      "(658, 6378)\n"
     ]
    }
   ],
   "source": [
    "# Call your function to print out the size of the graph\n",
    "# How you maintain the graph is totally up to you\n",
    "\n",
    "print('the number of nodes and the number of edges are shown belown respectively')\n",
    "print(sizeOfGraph(dic))"
   ]
  },
  {
   "cell_type": "markdown",
   "metadata": {},
   "source": [
    "## HITS Implementation\n",
    "\n",
    "Your program will return the top 10 users with highest hub and authority scores. The **output** should be like:\n",
    "\n",
    "Hub Scores\n",
    "\n",
    "* user1 - score1\n",
    "* user2 - score2\n",
    "* ...\n",
    "* user10 - score10\n",
    "\n",
    "Authority Scores\n",
    "\n",
    "* user1 - score1\n",
    "* user2 - score2\n",
    "* ...\n",
    "* user10 - score10\n",
    "\n",
    "You should follow these **rules**:\n",
    "\n",
    "* Assume all nodes start out with equal scores.\n",
    "* It is up to you to decide when to terminate the HITS calculation.\n",
    "* There are HITS implementations out there on the web. However, remember, your code should be **your own**.\n",
    "\n",
    "\n",
    "**Hints**:\n",
    "* If you're using the matrix style approach, you should use [numpy.matrix](https://docs.scipy.org/doc/numpy/reference/generated/numpy.matrix.html).\n",
    "* Scipy is built on top of Numpy and has support for sparse matrices. You most likely will not need to use Scipy unless you'd like to try out their sparse matrices.\n",
    "* If you choose to use Numpy (and Scipy), please make sure your Anaconda environment include their latest versions.\n",
    "* Test your parsing and HITS calculations using a handful of trust relationships, before moving on to the entire file we provide.\n",
    "* We will evaluate the user ranks you provide as well as the quality of your code. So make sure that your code is clear and readable."
   ]
  },
  {
   "cell_type": "code",
   "execution_count": 139,
   "metadata": {},
   "outputs": [],
   "source": [
    "# HITS IMPLEMENTATION\n",
    "# dic = {'A': ['B'], 'B': ['C','D'],'C' : ['D'], 'D' : ['B'], 'E' : ['B']}\n",
    "\n",
    "import math\n",
    "def NodeListOfGraph(dic) :\n",
    "    nodeList = []\n",
    "    for key in dic :\n",
    "        nodeList.append(key)\n",
    "    for key in dic :\n",
    "        for value in dic[key] :\n",
    "            if value not in nodeList : \n",
    "                nodeList.append(value)\n",
    "    return nodeList\n",
    "nodeList = NodeListOfGraph(dic)\n",
    "\n",
    "\n",
    "def normalization(dictionary) :\n",
    "    res = 0\n",
    "    for key in dictionary :\n",
    "        res += dictionary[key] ** 2\n",
    "    res = math.sqrt(res)\n",
    "    return res\n",
    "    \n",
    "# get the dictionary to calculate the authority value\n",
    "dicAuthority = {}\n",
    "for key in dic :\n",
    "    for value in dic[key] :\n",
    "        if value in dicAuthority :\n",
    "            dicAuthority[value].append(key)\n",
    "        else :\n",
    "            dicAuthority[value] = [key]\n",
    "# print(dic)\n",
    "# print(dicAuthority)\n",
    "\n",
    "# .................................initialization\n",
    "authority = {}\n",
    "hub = {}\n",
    "for node in nodeList :\n",
    "    authority[node] = 1\n",
    "    hub[node] = 1\n",
    "\n",
    "# ..................................iteration\n",
    "i = 0\n",
    "while i < 10 :\n",
    "    for key in hub :\n",
    "        if key in dic :\n",
    "            hub[key] = 0\n",
    "            for edge in dic[key] :\n",
    "                hub[key] += authority[edge]\n",
    "        else :\n",
    "            hub[key] = 0\n",
    "#     print('hub' , hub)\n",
    "#     print('\\n')\n",
    "    for key in authority :\n",
    "        if key in dicAuthority :\n",
    "            authority[key] = 0\n",
    "            for edge in dicAuthority[key] :\n",
    "                authority[key] += hub[edge]\n",
    "        else :\n",
    "            authority[key] = 0\n",
    "#     print('authority', authority)\n",
    "#     print('\\n')\n",
    "#  .................normaliztion\n",
    "\n",
    "#   the next line is important because if not do so, the normalization(hub) is actually changing when we change hub[key]\n",
    "    divisor = normalization(hub)\n",
    "    for key in hub :\n",
    "        hub[key] = hub[key] / divisor\n",
    "    for key in authority :\n",
    "        authority[key] = authority[key] / divisor\n",
    "    i += 1\n",
    "#     print('hub', hub)\n",
    "#     print('\\n')\n",
    "#     print('authority', authority)\n",
    "#     print('\\n')\n",
    "\n",
    "hubSorted = sorted(hub.items(), key=lambda x: x[1])\n",
    "hubSorted.reverse()\n",
    "# print(hubSorted)\n",
    "authSorted = sorted(authority.items(), key=lambda x: x[1])\n",
    "authSorted.reverse()\n",
    "# print(authSorted)"
   ]
  },
  {
   "cell_type": "code",
   "execution_count": 140,
   "metadata": {},
   "outputs": [
    {
     "name": "stdout",
     "output_type": "stream",
     "text": [
      "hub scores\n",
      "\n",
      "charles 0.18163967198194106\n",
      "teanna3 0.17735805756000603\n",
      "JediKermit 0.1631313056695043\n",
      "KCFemme 0.15102471058706424\n",
      "melissasrn 0.14454261197340737\n",
      "missi31 0.14338346958671092\n",
      "jeanniekerns 0.1427769407466428\n",
      "jag2112 0.14200895811996167\n",
      "mrssmoopy 0.14199810142435626\n",
      "briandalsmom 0.1392722414414174\n",
      "\n",
      "\n",
      "authority scores\n",
      "\n",
      "melissasrn 9.11961779177607\n",
      "shantel575 7.258262526547998\n",
      "surferdude7 7.176099304051569\n",
      "sblaydes 5.814875981525541\n",
      "tiffer0220 5.740998731065901\n",
      "opinionated3 5.6395151721850905\n",
      "patch3boys 4.845509482763947\n",
      "merlot 4.774319180746799\n",
      "pogomom 4.665213888045435\n",
      "chrisceb 4.428135840246835\n"
     ]
    }
   ],
   "source": [
    "i = 0\n",
    "j = 0\n",
    "print('hub scores\\n')\n",
    "while i < 10 :\n",
    "    print(hubSorted[i][0], hubSorted[i][1])\n",
    "    i += 1\n",
    "print('\\n')\n",
    "print('authority scores\\n')\n",
    "while j < 10 :\n",
    "    print(authSorted[j][0], authSorted[j][1])\n",
    "    j += 1"
   ]
  },
  {
   "cell_type": "markdown",
   "metadata": {},
   "source": [
    "For this part, your goal is to put on your \"[search engine optimization](https://en.wikipedia.org/wiki/Search_engine_optimization)\" hat. Your job is to create a webpage that scores highest for the query: **sajfd hfafbjhd** --- two terms, lower case, no quote. As of today (Jan 24, 2019), there are no hits for this query on either Google or Bing. Based on our discussions of search engine ranking algorithms, you know that several factors may impact a page's rank. Your goal is to use this knowledge to promote your own page to the top of the list.\n",
    "\n",
    "What we're doing here is a form of [SEO contest](https://en.wikipedia.org/wiki/SEO_contest). While you have great latitude in how you approach this problem, you are not allowed to engage in any unethical or illegal behavior. Please read the discussion of \"white hat\" versus \"black hat\" SEO over at [Wikipedia](https://en.wikipedia.org/wiki/Search_engine_optimization).\n",
    "\n",
    "\n",
    "**Rules of the game:**\n",
    "\n",
    "* Somewhere in the page (possibly in the non-viewable source html) you must include your name or some other way for us to identify you.\n",
    "* Your target page may only be a TAMU student page, a page on your own webserver, a page on a standard blog platform (e.g., wordpress), or some other primarily user-controlled page\n",
    "* Your target page CAN NOT be a twitter account, a facebook page, a Yahoo Answers or similar page\n",
    "* No wikipedia vandalism\n",
    "* No yahoo/wiki answers questions\n",
    "* No comment spamming of blogs\n",
    "* If you have concerns/questions/clarifications, please post on Piazza and we will discuss\n",
    "\n",
    "For your homework turnin for this part, you should provide us the URL of your target page and a brief discussion (2-4 paragraphs) of the strategies you are using. We will issue the query and check the rankings at some undetermined time in the next couple of weeks. You might guess that major search engines take some time to discover and integrate new pages: if I were you, I'd get a target page up immediately.\n",
    "\n",
    "**Grading:**\n",
    "\n",
    "* 5 points for providing a valid URL\n",
    "* 5 points for a well-reasoned discussion of your strategy\n",
    "\n",
    "** Bonus: **\n",
    "* 1 point for your page appearing in the top-20 on Google or Bing\n",
    "* 1 more point for your page appearing in the top-10 on Google or Bing\n",
    "* 1 more point for your page appearing in the top-5 on Google or Bing\n",
    "* 2 more points for your page being ranked first by Google or Bing. And, a vigorous announcement in class, and a high-five for having the top result!"
   ]
  },
  {
   "cell_type": "markdown",
   "metadata": {},
   "source": [
    "What's the URL of your page?\n",
    "http://people.tamu.edu/~bohuaijiang.1021/"
   ]
  },
  {
   "cell_type": "markdown",
   "metadata": {},
   "source": [
    "What's your strategy? (2-4 paragraphs)\n",
    "\n",
    "First, I make a personal website on people.tamu.edu; Then I mention the sajfd hfafbjhd.\n",
    "Second, a youtube link is given in this page considering youtube has high authority score.\n",
    "Then lastly, I put another student's website link which has high rank of the term on google. So I think I can take advantage of that"
   ]
  },
  {
   "cell_type": "markdown",
   "metadata": {},
   "source": [
    "## Collaboration declarations"
   ]
  },
  {
   "cell_type": "markdown",
   "metadata": {},
   "source": [
    "*If you collaborated with anyone (see Collaboration policy at the top of this homework), you can put your collaboration declarations here.*"
   ]
  },
  {
   "cell_type": "code",
   "execution_count": null,
   "metadata": {
    "collapsed": true
   },
   "outputs": [],
   "source": [
    "# https://stackoverflow.com/questions/988228/convert-a-string-representation-of-a-dictionary-to-a-dictionary  str to dict\n",
    "# https://www.quora.com/How-is-the-HITS-algorithm-implemented\n",
    "# https://www.w3schools.com/python/python_dictionaries.asp\n",
    "# https://stackoverflow.com/questions/17555218/python-how-to-sort-a-list-of-lists-by-the-fourth-element-in-each-list"
   ]
  }
 ],
 "metadata": {
  "kernelspec": {
   "display_name": "Python 3",
   "language": "python",
   "name": "python3"
  },
  "language_info": {
   "codemirror_mode": {
    "name": "ipython",
    "version": 3
   },
   "file_extension": ".py",
   "mimetype": "text/x-python",
   "name": "python",
   "nbconvert_exporter": "python",
   "pygments_lexer": "ipython3",
   "version": "3.6.8"
  }
 },
 "nbformat": 4,
 "nbformat_minor": 2
}
