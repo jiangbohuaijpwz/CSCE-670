{
 "cells": [
  {
   "cell_type": "markdown",
   "metadata": {},
   "source": [
    "#### CSCE 670 :: Information Storage and Retrieval :: Texas A&M University :: Spring 2019\n",
    "\n",
    "\n",
    "# Homework 0: Starting Point\n",
    "\n",
    "### 100 points [2% of your final grade]\n",
    "\n",
    "- **Due Sunday, January 20 by 11:59pm**\n",
    "\n",
    "*Goals of this homework:* The objective of this homework is to help you prepare your development environment. You will get familiar with Python in a Jupyter notebook, and then do some beginning exercises.\n",
    "\n",
    "*Submission instructions (eCampus):* To submit your homework, rename this notebook as `UIN_hw0.ipynb`. For example, my homework submission would be something like `555001234_hw0.ipynb`. Submit this notebook via eCampus (look for the homework 0 assignment there). Your notebook should be completely self-contained, with the results visible in the notebook. We should not have to run any code from the command line, nor should we have to run your code within the notebook (though we reserve the right to do so). So please run all the cells for us, and then submit. \n",
    "\n",
    "*Late policy:* For this homework, no late submissions will be accepted. "
   ]
  },
  {
   "cell_type": "markdown",
   "metadata": {},
   "source": [
    "# Jupyter, Python, and our Expectations\n",
    "\n",
    "This homework, all subsequent homeworks, and your project will use iPython in a Jupyter notebook. iPython is just an interactive shell for programming in the Python language. A few years ago, the developers created a generic interactive shell called Jupyter that supports languages beyond just Python. This can be a bit confusing, and we'll add a bit to the confusion by referring to iPython and Jupyter interchangeably in this course.\n",
    "\n",
    "With respect to Python, we do not expect you to have any prior experience. We do, however, expect you to have proficiency in some programming language (so you've seen loops, conditionals, functions, etc.) and a willingness to experiment and learn on your own. Python is a fun language and you should be able to pick up the necessary portions as we move along; however, this may require you to spend some extra cycles consulting online documentation, referring to a Python book, or scouring over StackOverflow. \n",
    "\n",
    "A few basic Python pointers:\n",
    "* http://introtopython.org\n",
    "* https://docs.python.org/3/tutorial/\n",
    "* http://mbakker7.github.io/exploratory_computing_with_python/ [particularly the basic Python language ones]\n",
    "\n",
    "\n",
    "We expect your code to be well-documented with appropriate comments. We prefer meaningful variable names and function names. We also expect your code to be compact and sensible -- no super-long lines, nor dense unintelligible lines of code.\n",
    "\n",
    "In general, Python code is often run from standalone Python modules or files; for this class, we will often run Python from here within the Jupyter notebook.\n",
    "\n",
    "Now that you're ready, let's take a look at this Jupyter notebook. You'll notice that it is composed of cells. Some cells have text (like this one), while others contain code and comments. This cell is written in **Markdown** a simple text-to-HTML language. You can find a cheat sheet for Markdown here: https://github.com/adam-p/markdown-here/wiki/Markdown-Cheatsheet. You can toggle a cell between Markdown and code with the toggle button up there on the menu bar.\n",
    "\n",
    "The cell below contains code and can be **executed** by hitting the **Run** button on the menu bar or by hitting **shift + enter**."
   ]
  },
  {
   "cell_type": "code",
   "execution_count": 1,
   "metadata": {},
   "outputs": [
    {
     "name": "stdout",
     "output_type": "stream",
     "text": [
      "Hello world!\n"
     ]
    }
   ],
   "source": [
    "# this is a comment\n",
    "# you can execute this cell by hitting shift+enter\n",
    "# the output will appear immediately below\n",
    "print('Hello world!')"
   ]
  },
  {
   "cell_type": "markdown",
   "metadata": {},
   "source": [
    "Since Jupyter is just an interactive shell around Python, you can define functions. For example:"
   ]
  },
  {
   "cell_type": "code",
   "execution_count": 2,
   "metadata": {},
   "outputs": [
    {
     "data": {
      "text/plain": [
       "27"
      ]
     },
     "execution_count": 2,
     "metadata": {},
     "output_type": "execute_result"
    }
   ],
   "source": [
    "def cubed(x):\n",
    "    \"\"\" Return the cube of a  \n",
    "        value \"\"\"\n",
    "    return x ** 3\n",
    "\n",
    "cubed(3)"
   ]
  },
  {
   "cell_type": "markdown",
   "metadata": {},
   "source": [
    "You can even access the filesystem with commands like `ls` or `pwd`"
   ]
  },
  {
   "cell_type": "markdown",
   "metadata": {},
   "source": [
    "## Getting Started with Numpy and matplotlib\n",
    "\n",
    "In this part, we're going to get familiar with two important libraries -- Numpy and matplotlib.\n",
    "\n",
    "### Into to Numpy\n",
    "Since Python is an interpreted language, it might not seem like the best choice for data-intensive work. Luckily, almost all of our data workflow stack is built on top of Numpy, a Python library that adds support for large, multi-dimensional arrays and matrices, along with a large library of high-level mathematical functions to operate on these arrays."
   ]
  },
  {
   "cell_type": "code",
   "execution_count": 18,
   "metadata": {},
   "outputs": [
    {
     "name": "stdout",
     "output_type": "stream",
     "text": [
      "Make a 4 row x 2 column matrix of random numbers\n",
      "[[0.28463224 0.26723174]\n",
      " [0.6040158  0.01518893]\n",
      " [0.60806356 0.89412815]\n",
      " [0.22459073 0.49707338]]\n",
      "\n",
      "Add 10 to every element\n",
      "[[10.28463224 10.26723174]\n",
      " [10.6040158  10.01518893]\n",
      " [10.60806356 10.89412815]\n",
      " [10.22459073 10.49707338]]\n",
      "\n",
      "Get the element at row 3, column 1\n",
      "10.497073381605567\n",
      "\n",
      "Get the first row\n",
      "[10.28463224 10.26723174]\n",
      "\n"
     ]
    }
   ],
   "source": [
    "import numpy as np\n",
    "\n",
    "print(\"Make a 4 row x 2 column matrix of random numbers\")\n",
    "x = np.random.random((4, 2))\n",
    "print(x)\n",
    "print()\n",
    "\n",
    "print(\"Add 10 to every element\")\n",
    "x = x + 10\n",
    "print(x)\n",
    "print()\n",
    "\n",
    "print(\"Get the element at row 3, column 1\")\n",
    "print(x[3, 1])\n",
    "print()\n",
    "\n",
    "print(\"Get the first row\")\n",
    "print(x[0, :])\n",
    "print()"
   ]
  },
  {
   "cell_type": "markdown",
   "metadata": {},
   "source": [
    "Now, it's your turn. Find the **maximum**, **minimum**, and **mean** of the array `x` you just created. This does not require writing a loop. In the code cell below, type `x.m`+`<TAB>`, to find built-in operations that may help you out."
   ]
  },
  {
   "cell_type": "code",
   "execution_count": 19,
   "metadata": {},
   "outputs": [
    {
     "name": "stdout",
     "output_type": "stream",
     "text": [
      "Maximum:\n",
      "10.894128151043176\n",
      "Minimum:\n",
      "10.015188933835969\n",
      "Mean:\n",
      "10.424365567637517\n"
     ]
    }
   ],
   "source": [
    "print(\"Maximum:\")\n",
    "# please find and print the maximum of the array\n",
    "print(x.max())\n",
    "\n",
    "print(\"Minimum:\")\n",
    "# please find and print the minimum of the array\n",
    "print(x.min())\n",
    "\n",
    "print(\"Mean:\")\n",
    "# please find and print the mean of the array\n",
    "print(x.mean())"
   ]
  },
  {
   "cell_type": "markdown",
   "metadata": {},
   "source": [
    "That wasy easy! Now, let's see if you can generate 500 numbers from a uniform distribution between 0 and 50,000, inclusive. That is each random number could be 0, 1, 2, ..., 50,000 with equal chance. Please show us the **maximum**, **minimum**, and **mean** of these 500 random numbers. Hint: you can take a look at `np.random`. "
   ]
  },
  {
   "cell_type": "code",
   "execution_count": 29,
   "metadata": {},
   "outputs": [
    {
     "name": "stdout",
     "output_type": "stream",
     "text": [
      "[44823 27752 36903 20034 49655 37501 23784 15042 16098 25279 10861 40138\n",
      " 31775 13317 29811 19297  5623 38200 13731  2233 19644 10021 24812 42871\n",
      " 22525 11727 47625 45915 42348 18732 48712 21256 36025 28870 10201 15339\n",
      "  5852 43525 41545 46204 28881 26925 48795  1175 40917 16590 15603 33234\n",
      " 22257 16419 26087 13841 38887 20921 14671  1855 45564 27804  2989 33499\n",
      " 23221 13492 34530 49427 27062 49430  1435 23872 23346 19477 22235  4782\n",
      " 48693 31614 13682 45248 37224 17929  9914 11177  8410  4941 34422 33173\n",
      " 45427 23353 30637  8659 35184 35170 10609 13712 24447 28618 45842 17562\n",
      "  2386  4314 11286  9767  6398 13184 31352 46135 45637 26103  8853 49689\n",
      " 22658 28469 12284 31992 47561 28109 43446 33846 27305 48489  5335 38422\n",
      "  4963 20564 48971 33099 18679  5188 16474 17094  5069 32696 13951 14890\n",
      " 27263   159 49392 31759 17602 17973 24199  2968  8651 39091 15609 24793\n",
      " 32814 12611 27153 35725  6970 13267 42128 26177 15990 15483 47948 27793\n",
      "  7634 23949 46417 35767 27514 44521 36830 45982 35395 39260  7326  3444\n",
      " 26551 41907 34814 48303  5235 21037 43311 33898 28582 44672 42313 26671\n",
      " 24403 44570 43123  4599 13073 22408 20344 13477  9297 49595 14206 33661\n",
      " 40116 17913  6296 39921 42213 20653 36176 20735 26485  8816 48737 25875\n",
      "   560 34470 37140 20473 10343 42154 43417 47676 14576 37502 26380 35969\n",
      " 15856 25843 22619  1587 39699 14399 15169 33449 47859 37033 10723 30322\n",
      " 37838 30497  9290 17621 45795 34869 17380  8798 31793 29792  2739 31728\n",
      "  5286 38830 41692 45988 42467  6657 22376   692 10261 43088 25214  3356\n",
      " 27389 37913 37874 39136  4957 35615  5704 29330  7911 14980 29400 26431\n",
      " 39745 23141 31767  3908 46539 26023 34754  4633  8337  4215 32095 19403\n",
      "  7196 30574 46250 13471 47586  4122   974 39313 10282 10132 48976 31664\n",
      "  4524 49626  7208 38792 49871 46920 48130 31317  9778 19139 21107   203\n",
      " 32450  2463 12362 19449 48280 10621 13799 20154 32930 39827 24263  9928\n",
      " 35433 42953 25533 18585 35687 13871 40744 12179 33554  6288 33658  6936\n",
      " 32060 16725  3181 25598 48370  9027 42981 32047 17032  8882 11465 34951\n",
      " 42637 28362 31165 22830 29855  3959 46873  7185 41528  7233  1018  8621\n",
      " 46122  3439 33307 39526 45208 28238 17842 37491 44287 43214 34848 26344\n",
      " 15915 45523 33573   701 35767 18797 49804  7049 20424 33846  8106  2673\n",
      "  2793 32881 23515 42962 20085 37974 44524 18848 21440  7627 42418 48626\n",
      " 30811 37976 25795 37497 18902 47315 45005 23916 43295 48714 13995 22006\n",
      " 36622  5303 34274 29888 15911  2916 37520 41912 29232 35540   603 30252\n",
      " 47661 18269  8659 18404 42436  4370 10239 42518 47638 39869 45513  7194\n",
      "  4677 26778 34249 12515   855 49034   965 21359  5096 12476 41159   520\n",
      " 20016 44559 49989 21131 21567  1832 49670 30374 46623  7647 24710  6858\n",
      " 37964 17992 44183 29783 33054 34071  9478 42685 39274 37325 44359 13527\n",
      " 14382 46315 42299 32878 27938 11664 23964 17106 38086 29789  7856 19374\n",
      "  7294 23736 15238 27194 32455 19946 18906 39941 47987 40162 36004 39350\n",
      " 27941 32121 48895 12829  4835 31076  5475 22446 38171  7818 35683  7035\n",
      " 24888 10297 10531 23264  2059 41091 30006 49721]\n",
      "\n",
      "Maximum:\n",
      "49989\n",
      "Minimum:\n",
      "159\n",
      "Mean:\n",
      "25795.872\n"
     ]
    }
   ],
   "source": [
    "x = np.random.randint(0, 50000, 500)\n",
    "print(x)\n",
    "print()\n",
    "print(\"Maximum:\")\n",
    "print(x.max())\n",
    "print(\"Minimum:\")\n",
    "print(x.min())\n",
    "print(\"Mean:\")\n",
    "print(x.mean())"
   ]
  },
  {
   "cell_type": "markdown",
   "metadata": {},
   "source": [
    "### Intro to matplotlib\n",
    "The most widespread Python plotting library is matplotlib. With it, you can create graphs, charts, basic maps, and other data visualizations. Later in the semester, we'll sometimes use `seaborn`, a library built on top of matplotlib that provides even more beautiful charts.\n",
    "\n",
    "Below, we provide some simple x and y coordinates that are then plotted. You should update the plot to include:\n",
    "* a label for the x-axis (call it 'widgets')\n",
    "* a label for the y-axis (call it 'price')\n",
    "* a label for the x, y1 curve (call it 'Alice')\n",
    "* a label for the x, y2 curve (call it 'Bob')\n",
    "* a legend in the lower right corner"
   ]
  },
  {
   "cell_type": "code",
   "execution_count": 38,
   "metadata": {},
   "outputs": [
    {
     "data": {
      "text/plain": [
       "<matplotlib.legend.Legend at 0x11ebcec50>"
      ]
     },
     "execution_count": 38,
     "metadata": {},
     "output_type": "execute_result"
    },
    {
     "data": {
      "image/png": "[encoded data removed]",
      "text/plain": [
       "<Figure size 432x288 with 1 Axes>"
      ]
     },
     "metadata": {
      "needs_background": "light"
     },
     "output_type": "display_data"
    }
   ],
   "source": [
    "# this line prepares IPython for working with matplotlib\n",
    "%matplotlib inline  \n",
    "\n",
    "import matplotlib.pyplot as plt  \n",
    "\n",
    "x = [0, 1, 2, 3, 4]  \n",
    "y1 = [10, 12, 10, 10, 12]\n",
    "y2 = [8, 9, 9, 11, 12]\n",
    "plt.xlabel(\"widgets\")\n",
    "plt.ylabel(\"price\")\n",
    "plt.plot(x, y1, label = \"Alice\")\n",
    "plt.plot(x, y2, label = \"Bob\") \n",
    "plt.legend(loc = \"lower right\")"
   ]
  },
  {
   "cell_type": "markdown",
   "metadata": {},
   "source": [
    "## Getting started with File Input & Output\n",
    "\n",
    "Python can easily handle reading and writing files. As far as Python is concerned, a file is just a string (often very large!) stored on your local file system, that you can read or write, gradually or all together.\n",
    "\n",
    "### Writing Files\n",
    "\n",
    "*open()* returns a file object, and is most commonly used with two arguments: *open(filename, mode)*."
   ]
  },
  {
   "cell_type": "code",
   "execution_count": 40,
   "metadata": {
    "collapsed": true
   },
   "outputs": [],
   "source": [
    "outFile = open('sample.txt', 'w')\n",
    "outFile.write('The first line\\nThe second line\\nThe third line\\n')\n",
    "outFile.close()"
   ]
  },
  {
   "cell_type": "markdown",
   "metadata": {},
   "source": [
    "The first line creates a file object, which links Python to your computer’s file system. The first parameter in the file constructor gives the file name, *sample.txt*. The second parameter indicates how you use the file. The 'w' is short for **w**rite. If the file already existed, the old contents are destroyed.\n",
    "\n",
    "And 'a' opens the file for **a**ppending; any data written to the file is automatically added to the end. 'r+' opens the file for both reading and writing.\n",
    "\n",
    "The *close* line is essential for Python to make sure everything is really written, and to relinquish control of the file."
   ]
  },
  {
   "cell_type": "markdown",
   "metadata": {},
   "source": [
    "### Methods of File Objects\n",
    "\n",
    "To read a file’s contents, call *f.read(size)*, which reads some quantity of data and returns it as a string. *size* is an optional numeric argument. When *size* is omitted or negative, the entire contents of the file will be read and returned."
   ]
  },
  {
   "cell_type": "code",
   "execution_count": 41,
   "metadata": {},
   "outputs": [
    {
     "data": {
      "text/plain": [
       "'The first line\\nThe second line\\nThe third line\\n'"
      ]
     },
     "execution_count": 41,
     "metadata": {},
     "output_type": "execute_result"
    }
   ],
   "source": [
    "outFile = open('sample.txt', 'r')\n",
    "outFile.read()"
   ]
  },
  {
   "cell_type": "markdown",
   "metadata": {},
   "source": [
    "For reading lines from a file, you can loop over the file object. This is memory efficient, fast, and leads to simple code:"
   ]
  },
  {
   "cell_type": "code",
   "execution_count": 42,
   "metadata": {},
   "outputs": [
    {
     "name": "stdout",
     "output_type": "stream",
     "text": [
      "The first line\n",
      "\n",
      "The second line\n",
      "\n",
      "The third line\n",
      "\n"
     ]
    }
   ],
   "source": [
    "outFile = open('sample.txt', 'r')\n",
    "for line in outFile:\n",
    "    print(line)"
   ]
  },
  {
   "cell_type": "markdown",
   "metadata": {},
   "source": [
    "It is good practice to use the *with* keyword when dealing with file objects. This has the advantage that the file is properly closed after its suite finishes, even if an exception is raised on the way. It is also much shorter than writing equivalent try-finally blocks:"
   ]
  },
  {
   "cell_type": "code",
   "execution_count": 43,
   "metadata": {},
   "outputs": [
    {
     "data": {
      "text/plain": [
       "'The first line\\nThe second line\\nThe third line\\n'"
      ]
     },
     "execution_count": 43,
     "metadata": {},
     "output_type": "execute_result"
    }
   ],
   "source": [
    "with open('sample.txt', 'r') as f:\n",
    "    outFile = f.read()\n",
    "outFile"
   ]
  },
  {
   "cell_type": "code",
   "execution_count": 44,
   "metadata": {},
   "outputs": [
    {
     "data": {
      "text/plain": [
       "True"
      ]
     },
     "execution_count": 44,
     "metadata": {},
     "output_type": "execute_result"
    }
   ],
   "source": [
    "f.closed"
   ]
  },
  {
   "cell_type": "code",
   "execution_count": 45,
   "metadata": {
    "collapsed": true
   },
   "outputs": [],
   "source": [
    "with open('sample.txt', 'a') as f:\n",
    "    f.write('The fourth line\\n')"
   ]
  },
  {
   "cell_type": "code",
   "execution_count": 46,
   "metadata": {},
   "outputs": [
    {
     "name": "stdout",
     "output_type": "stream",
     "text": [
      "['The first line\\n', 'The second line\\n', 'The third line\\n', 'The fourth line\\n']\n"
     ]
    }
   ],
   "source": [
    "with open('sample.txt', 'r') as f:\n",
    "    print(f.readlines())  # readlines – reads the entire file and returns it as a list of strings"
   ]
  },
  {
   "cell_type": "markdown",
   "metadata": {},
   "source": [
    "### Open a Remote File via URL\n",
    "\n",
    "Python can easily access the content of a webpage via its URL, and print out locally line-by-line without saving a local copy of the file. "
   ]
  },
  {
   "cell_type": "code",
   "execution_count": 116,
   "metadata": {},
   "outputs": [
    {
     "name": "stdout",
     "output_type": "stream",
     "text": [
      "<html><head> <TITLE>CSCE 670 :: Information Storage and Retrieval :: Spring\n",
      "2019</TITLE> </head>\n",
      "\n",
      "<body bgcolor=white text=black link=blue vlink=blue alink=blue>\n",
      "\n",
      "\n",
      "<h1> CSCE 670 :: Information Storage and Retrieval :: Spring 2019 </h1> \n",
      "\n",
      "<p><a href=\"index.html\">Back to main page</a> \n",
      "\n",
      "<H3><A NAME = \"project-overview\">Project Overview</a></H3> \n",
      "\n",
      "<p>For the project, you will work in teams of three or four on a problem of \n",
      "your choosing that is interesting, significant, and relevant to this course. You have great latitude in what you work on, so make it count! We will hold a project showcase during the final week of class. Note that your code must live on github.\n",
      "\n",
      "\n",
      "<hr>\n",
      "<h4>Grading Criteria</h4> \n",
      "<p>The course project counts for 20% of your final grade. You will receive an overall rating based on the performance of your entire team, as well as an individual rating based on the feedback of your teammate as well as contributions to the project github repo. Typically, the individual rating can bump or depress your project grade by some small delta (say moving a group rating of 85/100 plus or minus 5 points). Rarely, a project score may be depressed significantly if a group member makes only a superficial contribution to a project.\n",
      "\n",
      "Your project will be graded based on these key milestones:\n",
      " \n",
      "<ul>\n",
      "<li> [10%] Project proposal: Due March 24 (Sunday) by 11:59pm\n",
      "<li> [50%] Project showcase: in-class April 29 and 30\n",
      "<li> [40%] Project report: Due May 2 (Thursday) by 11:59pm\n",
      "</ul>\n",
      "\n",
      "Recall that your late days are applicable to homework assignments only. All project milestones are due on their respective due date. No late project milestones will be accepted.\n",
      "\n",
      "<hr>\n",
      "<h4>Project proposal</h4> \n",
      "<p>Each group should post a 1-2 page project proposal in PDF to the Piazza course discussion forum. Be sure to start a new thread for your proposal and name the thread \"Proposal: [project_name]\", where [project_name] is a brief, descriptive name of your project. Your name should be something memorable! \n",
      "<br/>\n",
      "\n",
      "\n",
      "A proposal should address the following issues:\n",
      "\n",
      "<ul>\n",
      "<li>What is your research question? Clearly define the research problem/question.\n",
      "<li>Why is this an interesting question to ask and why would we care about the answer to this question or a solution to the problem.\n",
      "<li>Has any existing research work tried to answer the same or a similar question, and if so, what is still unknown?\n",
      "<li>How do you plan to work out the answer to the question. (At the proposal stage, you are only expected to have a sketch of your methods.)\n",
      "<li>How would you evaluate your solution. That is, how do you plan to demonstrate that your solution/answer is good or is reasonable.\n",
      "<li>A rough timeline to show when you expect to finish what. List a couple of milestones.\n",
      "</ul>\n",
      "\n",
      "\n",
      "\n",
      "\n",
      "\n",
      "\n",
      "\n",
      "\n",
      "\n",
      "<hr>\n",
      "<h4>Project showcase</h4> \n",
      "Finally, we will host a project showcase during our last week of class. \n",
      "\n",
      "<p>On Monday, April 29 and Tuesday, April 30 we will hold an in-class POSTER SESSION. \n",
      "\n",
      "<p>All teams must create a poster. Your poster should be MAX 30 inches horizontal by 40 inches vertical. Your poster should be structured somewhat like your website -- that is, you should provide a motivation, your approach (technical details), what you learned, what is next. You can print your poster in the department. Please use <a href=\"https://engineering.tamu.edu/media/1381416/PlotterPrintingForm2014Editable.pdf\">this printer form</a> if you want me to pay for your poster. We will have posterboards and easels set up in the classroom.\n",
      "\n",
      "<p>Be sure to highlight the key technical innovations, findings, takeaways. Impress us! This is your chance.\n",
      "\n",
      "\n",
      "<hr>\n",
      "<h4>Project report</h4>\n",
      "Your team should write a brief project report (4-6 pages in ACM format) summarizing the project. Your report should be structured somewhat like your proposal, but with the actual things you have actually done:\n",
      "\n",
      "<ul>\n",
      "<li>Introduction / problem background / motivation -- what is the research question? Why is it important?\n",
      "<li>Related work -- what existing work is there? Include links. What is the difference with what you propose?\n",
      "<li>Proposed solution / methods used -- give us the technical details about what you have done.\n",
      "<li>Evaluation and analysis of results -- what did you discover? \n",
      "<li>Conclusions / discussion -- What was challenging about the project? What would you like to do next? What are the open issues?\n",
      "</ul>\n",
      "\n",
      "When you post your report to Piazza you should also include:\n",
      "\n",
      "<ul>\n",
      "<li>Link to your github repository.\n",
      "<li>The data you used (raw or possibly a link to a cloud storage provider).\n",
      "<li>Link to your poster (PDF or similar).\n",
      "</ul>\n",
      "\n",
      "\n",
      "<P> <BR> <BR>\n",
      "</body>\n",
      "</html>\n"
     ]
    }
   ],
   "source": [
    "import urllib.request   # the lib that handles the url stuff\n",
    "url = \"http://courses.cse.tamu.edu/caverlee/csce670/project.html\"\n",
    "\n",
    "response = urllib.request.urlopen(url)\n",
    "# your code here: open the url. Hint: take a look at urllib2.urlopen\n",
    "\n",
    "print(response.read().decode('utf-8'))\n",
    "# your code here: now print out each line\n",
    "\n",
    "\n",
    "\n"
   ]
  },
  {
   "cell_type": "markdown",
   "metadata": {},
   "source": [
    "## Counting Word Frequency\n",
    "\n",
    "One of the most fundamental tasks in information retrieval is to count the frequency of each word in a document.\n",
    "\n",
    "In the following example, we start with a string and split it into a list. We then create an (initially empty) list called *wordfreq*, go through each word in the *wordlist*, and count the number of times that word appears in the whole list. We then add each word’s count to our wordfreq list. Using the *zip* operation, we are able to match the first word of the word list with the first number in the frequency list, the second word and second frequency, and so on. We end up with a list of word and frequency pairs. The *str* function converts any object to a string so that it can be printed."
   ]
  },
  {
   "cell_type": "code",
   "execution_count": 151,
   "metadata": {},
   "outputs": [
    {
     "name": "stdout",
     "output_type": "stream",
     "text": [
      "String\n",
      "it was the best of times it was the worst of times it was the age of wisdom it was the age of foolishness\n",
      "\n",
      "List\n",
      "['it', 'was', 'the', 'best', 'of', 'times', 'it', 'was', 'the', 'worst', 'of', 'times', 'it', 'was', 'the', 'age', 'of', 'wisdom', 'it', 'was', 'the', 'age', 'of', 'foolishness']\n",
      "\n",
      "Frequencies\n",
      "[4, 4, 4, 1, 4, 2, 4, 4, 4, 1, 4, 2, 4, 4, 4, 2, 4, 1, 4, 4, 4, 2, 4, 1]\n",
      "\n",
      "Pairs\n",
      "{'it': 4, 'was': 4, 'the': 4, 'best': 1, 'of': 4, 'times': 2, 'worst': 1, 'age': 2, 'wisdom': 1, 'foolishness': 1}\n"
     ]
    }
   ],
   "source": [
    "wordstring = 'it was the best of times it was the worst of times '\n",
    "wordstring += 'it was the age of wisdom it was the age of foolishness'\n",
    "\n",
    "wordlist = wordstring.split()\n",
    "\n",
    "wordfreq = []\n",
    "for w in wordlist:\n",
    "    wordfreq.append(wordlist.count(w))\n",
    "\n",
    "print(\"String\\n\" + wordstring +\"\\n\")\n",
    "print(\"List\\n\" + str(wordlist) + \"\\n\")\n",
    "print(\"Frequencies\\n\" + str(wordfreq) + \"\\n\")\n",
    "print(\"Pairs\\n\" + str(dict(zip(wordlist, wordfreq))))"
   ]
  },
  {
   "cell_type": "raw",
   "metadata": {},
   "source": [
    "Now, your job is to open up the url we mentioned a few cells above. Then output the word-frequency pairs in that url, sorted in order of descending frequency. In the case of ours Dickens example here, the output would look something like: [('of', 4), ('it', 4), ('the', 4), ('was', 4), ('age', 2), ('times', 2), ('foolishness', 1), ('worst', 1), ('wisdom', 1), ('best', 1)].\n",
    "\n",
    "Your job is to output a the word-frequency pairs for the url."
   ]
  },
  {
   "cell_type": "code",
   "execution_count": 162,
   "metadata": {},
   "outputs": [
    {
     "name": "stdout",
     "output_type": "stream",
     "text": [
      "[('the', 26), ('to', 24), ('your', 22), ('a', 20), ('you', 18), ('is', 13), ('of', 12), ('project', 11), ('and', 10), ('should', 9), ('what', 9), ('or', 8), ('will', 8), ('be', 7), ('--', 6), ('Your', 6), ('on', 6), ('in', 6), ('work', 6), ('have', 5), ('that', 5), ('What', 4), ('/', 4), ('poster', 4), ('research', 4), ('proposal', 4), ('are', 4), ('</ul>', 4), ('<ul>', 4), ('by', 4), ('as', 4), ('rating', 4), ('an', 4), ('<hr>', 4), ('::', 4), ('report', 3), ('like', 3), ('do', 3), ('answer', 3), ('about', 3), ('we', 3), ('would', 3), ('name', 3), ('<h4>Project', 3), ('30', 3), ('April', 3), ('Project', 3), ('<li>', 3), ('project.', 3), ('if', 3), ('group', 3), ('based', 3), ('for', 3), ('You', 3), ('this', 3), ('<BR>', 2), ('<li>Link', 2), ('used', 2), ('with', 2), ('technical', 2), ('somewhat', 2), ('structured', 2), ('inches', 2), ('poster.', 2), ('is,', 2), ('plan', 2), ('<li>How', 2), ('existing', 2), ('solution', 2), ('question', 2), ('question?', 2), ('thread', 2), ('sure', 2), ('discussion', 2), ('Piazza', 2), ('post', 2), ('due', 2), ('milestones', 2), ('late', 2), ('29', 2), ('in-class', 2), ('11:59pm', 2), ('Due', 2), ('key', 2), ('only', 2), ('can', 2), ('github', 2), ('individual', 2), ('well', 2), ('course', 2), ('must', 2), ('class.', 2), ('week', 2), ('final', 2), ('during', 2), ('showcase', 2), ('hold', 2), ('We', 2), ('it', 2), ('problem', 2), ('teams', 2), ('Spring', 2), ('Retrieval', 2), ('Storage', 2), ('Information', 2), ('670', 2), ('</html>', 1), ('</body>', 1), ('<P>', 1), ('similar).', 1), ('(PDF', 1), ('provider).', 1), ('storage', 1), ('cloud', 1), ('link', 1), ('possibly', 1), ('(raw', 1), ('data', 1), ('<li>The', 1), ('repository.', 1), ('include:', 1), ('also', 1), ('When', 1), ('issues?', 1), ('open', 1), ('next?', 1), ('project?', 1), ('challenging', 1), ('was', 1), ('<li>Conclusions', 1), ('discover?', 1), ('did', 1), ('results', 1), ('analysis', 1), ('<li>Evaluation', 1), ('done.', 1), ('details', 1), ('us', 1), ('give', 1), ('methods', 1), ('<li>Proposed', 1), ('propose?', 1), ('difference', 1), ('links.', 1), ('Include', 1), ('there?', 1), ('<li>Related', 1), ('important?', 1), ('Why', 1), ('motivation', 1), ('background', 1), ('<li>Introduction', 1), ('done:', 1), ('actually', 1), ('things', 1), ('actual', 1), ('but', 1), ('proposal,', 1), ('summarizing', 1), ('format)', 1), ('ACM', 1), ('pages', 1), ('(4-6', 1), ('brief', 1), ('write', 1), ('team', 1), ('report</h4>', 1), ('chance.', 1), ('This', 1), ('us!', 1), ('Impress', 1), ('takeaways.', 1), ('findings,', 1), ('innovations,', 1), ('highlight', 1), ('<p>Be', 1), ('classroom.', 1), ('up', 1), ('set', 1), ('easels', 1), ('posterboards', 1), ('pay', 1), ('me', 1), ('want', 1), ('form</a>', 1), ('printer', 1), ('href=\"https://engineering.tamu.edu/media/1381416/PlotterPrintingForm2014Editable.pdf\">this', 1), ('<a', 1), ('use', 1), ('Please', 1), ('department.', 1), ('print', 1), ('next.', 1), ('learned,', 1), ('details),', 1), ('(technical', 1), ('approach', 1), ('motivation,', 1), ('provide', 1), ('website', 1), ('vertical.', 1), ('40', 1), ('horizontal', 1), ('MAX', 1), ('create', 1), ('<p>All', 1), ('SESSION.', 1), ('POSTER', 1), ('Tuesday,', 1), ('Monday,', 1), ('<p>On', 1), ('last', 1), ('our', 1), ('host', 1), ('Finally,', 1), ('showcase</h4>', 1), ('milestones.', 1), ('couple', 1), ('List', 1), ('what.', 1), ('finish', 1), ('expect', 1), ('when', 1), ('show', 1), ('timeline', 1), ('rough', 1), ('<li>A', 1), ('reasonable.', 1), ('good', 1), ('solution/answer', 1), ('demonstrate', 1), ('how', 1), ('That', 1), ('solution.', 1), ('evaluate', 1), ('methods.)', 1), ('sketch', 1), ('expected', 1), ('stage,', 1), ('(At', 1), ('question.', 1), ('out', 1), ('unknown?', 1), ('still', 1), ('so,', 1), ('question,', 1), ('similar', 1), ('same', 1), ('tried', 1), ('any', 1), ('<li>Has', 1), ('problem.', 1), ('care', 1), ('why', 1), ('ask', 1), ('interesting', 1), ('<li>Why', 1), ('problem/question.', 1), ('define', 1), ('Clearly', 1), ('<li>What', 1), ('issues:', 1), ('following', 1), ('address', 1), ('A', 1), ('<br/>', 1), ('memorable!', 1), ('something', 1), ('descriptive', 1), ('brief,', 1), ('[project_name]', 1), ('where', 1), ('[project_name]\",', 1), ('\"Proposal:', 1), ('new', 1), ('start', 1), ('Be', 1), ('forum.', 1), ('PDF', 1), ('page', 1), ('1-2', 1), ('<p>Each', 1), ('proposal</h4>', 1), ('accepted.', 1), ('No', 1), ('date.', 1), ('respective', 1), ('their', 1), ('All', 1), ('only.', 1), ('assignments', 1), ('homework', 1), ('applicable', 1), ('days', 1), ('Recall', 1), ('(Thursday)', 1), ('2', 1), ('May', 1), ('report:', 1), ('[40%]', 1), ('showcase:', 1), ('[50%]', 1), ('(Sunday)', 1), ('24', 1), ('March', 1), ('proposal:', 1), ('[10%]', 1), ('milestones:', 1), ('these', 1), ('graded', 1), ('contribution', 1), ('superficial', 1), ('makes', 1), ('member', 1), ('significantly', 1), ('depressed', 1), ('may', 1), ('score', 1), ('Rarely,', 1), ('points).', 1), ('5', 1), ('minus', 1), ('plus', 1), ('85/100', 1), ('moving', 1), ('(say', 1), ('delta', 1), ('small', 1), ('some', 1), ('grade', 1), ('depress', 1), ('bump', 1), ('Typically,', 1), ('repo.', 1), ('contributions', 1), ('teammate', 1), ('feedback', 1), ('team,', 1), ('entire', 1), ('performance', 1), ('overall', 1), ('receive', 1), ('grade.', 1), ('20%', 1), ('counts', 1), ('<p>The', 1), ('Criteria</h4>', 1), ('<h4>Grading', 1), ('github.', 1), ('live', 1), ('code', 1), ('Note', 1), ('count!', 1), ('make', 1), ('so', 1), ('on,', 1), ('latitude', 1), ('great', 1), ('course.', 1), ('relevant', 1), ('significant,', 1), ('interesting,', 1), ('choosing', 1), ('four', 1), ('three', 1), ('project,', 1), ('<p>For', 1), ('Overview</a></H3>', 1), ('\"project-overview\">Project', 1), ('=', 1), ('NAME', 1), ('<H3><A', 1), ('page</a>', 1), ('main', 1), ('href=\"index.html\">Back', 1), ('<p><a', 1), ('</h1>', 1), ('2019', 1), ('CSCE', 1), ('<h1>', 1), ('alink=blue>', 1), ('vlink=blue', 1), ('link=blue', 1), ('text=black', 1), ('bgcolor=white', 1), ('<body', 1), ('</head>', 1), ('2019</TITLE>', 1), ('<TITLE>CSCE', 1), ('<html><head>', 1)]\n"
     ]
    }
   ],
   "source": [
    "import urllib.request   \n",
    "url = \"http://courses.cse.tamu.edu/caverlee/csce670/project.html\"\n",
    "response = urllib.request.urlopen(url)\n",
    "data = (response.read().decode('utf-8'))\n",
    "#print(data)\n",
    "\n",
    "wordlist = data.split()\n",
    "#print(wordlist)\n",
    "wordfreq = []\n",
    "for w in wordlist:\n",
    "    wordfreq.append(wordlist.count(w))\n",
    "#print(\"List\\n\" + str(wordlist) + \"\\n\")\n",
    "#print(\"Frequencies\\n\" + str(wordfreq) + \"\\n\")\n",
    "freqdict = dict(zip(wordlist, wordfreq))\n",
    "#print(\"Pairs\\n\" + str(freqdict))\n",
    "\n",
    "sorted_by_value = sorted(freqdict.items(), key = lambda kv: kv[1])\n",
    "sorted_by_value.reverse()\n",
    "print(sorted_by_value)\n",
    "\n",
    "\n"
   ]
  },
  {
   "cell_type": "code",
   "execution_count": null,
   "metadata": {
    "collapsed": true
   },
   "outputs": [],
   "source": []
  }
 ],
 "metadata": {
  "anaconda-cloud": {},
  "kernelspec": {
   "display_name": "Python 3",
   "language": "python",
   "name": "python3"
  },
  "language_info": {
   "codemirror_mode": {
    "name": "ipython",
    "version": 3
   },
   "file_extension": ".py",
   "mimetype": "text/x-python",
   "name": "python",
   "nbconvert_exporter": "python",
   "pygments_lexer": "ipython3",
   "version": "3.6.2"
  }
 },
 "nbformat": 4,
 "nbformat_minor": 1
}
